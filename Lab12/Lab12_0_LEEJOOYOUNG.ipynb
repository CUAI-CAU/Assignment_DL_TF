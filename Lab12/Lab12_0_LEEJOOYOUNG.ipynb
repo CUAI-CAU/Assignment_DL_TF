{
  "nbformat": 4,
  "nbformat_minor": 0,
  "metadata": {
    "colab": {
      "name": "Lab12-0_LEEJOOYOUNG.ipynb",
      "provenance": []
    },
    "kernelspec": {
      "name": "python3",
      "display_name": "Python 3"
    },
    "language_info": {
      "name": "python"
    },
    "accelerator": "GPU"
  },
  "cells": [
    {
      "cell_type": "code",
      "metadata": {
        "colab": {
          "base_uri": "https://localhost:8080/"
        },
        "id": "6lBW7ZQIkmik",
        "outputId": "6635563d-fdea-4de0-b315-ef555d0339dc"
      },
      "source": [
        "# setup\n",
        "import numpy as np\n",
        "import tensorflow as tf\n",
        "from tensorflow import keras\n",
        "from tensorflow.keras import layers\n",
        "from tensorflow.keras import Sequential, Model\n",
        "\n",
        "print(tf.__version__)"
      ],
      "execution_count": 1,
      "outputs": [
        {
          "output_type": "stream",
          "name": "stdout",
          "text": [
            "2.7.0\n"
          ]
        }
      ]
    },
    {
      "cell_type": "code",
      "metadata": {
        "id": "DQGs3efFkwfF"
      },
      "source": [
        "# One hot encoding for each char in 'hello'\n",
        "h = [1, 0, 0, 0]\n",
        "e = [0, 1, 0, 0]\n",
        "l = [0, 0, 1, 0]\n",
        "o = [0, 0, 0, 1]"
      ],
      "execution_count": 2,
      "outputs": []
    },
    {
      "cell_type": "code",
      "metadata": {
        "colab": {
          "base_uri": "https://localhost:8080/"
        },
        "id": "Tm-1VcRlk_Oe",
        "outputId": "4bf7a22c-ce26-4c8d-8751-829742f7b4d7"
      },
      "source": [
        "# One cell RNN input_dim (4) -> output_dim (2)\n",
        "x_data = np.array([[h]], dtype=np.float32)\n",
        "\n",
        "hidden_size = 2\n",
        "cell = layers.SimpleRNNCell(units=hidden_size) # creating SimpleRNNCell\n",
        "rnn = layers.RNN(cell, return_sequences=True, return_state=True) # analogous to tf.nn.dynamic_rnn\n",
        "outputs, states = rnn(x_data)\n",
        "\n",
        "print('x_data: {}, shape: {}'.format(x_data, x_data.shape))\n",
        "print('outputs: {}, shape: {}'.format(outputs, outputs.shape))\n",
        "print('states: {}, shape: {}'.format(states, states.shape))"
      ],
      "execution_count": 3,
      "outputs": [
        {
          "output_type": "stream",
          "name": "stdout",
          "text": [
            "x_data: [[[1. 0. 0. 0.]]], shape: (1, 1, 4)\n",
            "outputs: [[[-0.61970687 -0.3287657 ]]], shape: (1, 1, 2)\n",
            "states: [[-0.61970687 -0.3287657 ]], shape: (1, 2)\n"
          ]
        }
      ]
    },
    {
      "cell_type": "code",
      "metadata": {
        "colab": {
          "base_uri": "https://localhost:8080/"
        },
        "id": "1024l1Y6lCqs",
        "outputId": "640eb4f5-b5b1-4889-af22-2657ef036b63"
      },
      "source": [
        "# equivalent to above case\n",
        "rnn = layers.SimpleRNN(units=hidden_size, return_sequences=True,\n",
        "                       return_state=True) # layers.SimpleRNNCell + layers.RNN\n",
        "\n",
        "outputs, states = rnn(x_data)\n",
        "\n",
        "print('x_data: {}, shape: {}'.format(x_data, x_data.shape))\n",
        "print('outputs: {}, shape: {}'.format(outputs, outputs.shape))\n",
        "print('states: {}, shape: {}'.format(states, states.shape))"
      ],
      "execution_count": 4,
      "outputs": [
        {
          "output_type": "stream",
          "name": "stdout",
          "text": [
            "x_data: [[[1. 0. 0. 0.]]], shape: (1, 1, 4)\n",
            "outputs: [[[ 0.6584084 -0.7502329]]], shape: (1, 1, 2)\n",
            "states: [[ 0.6584084 -0.7502329]], shape: (1, 2)\n"
          ]
        }
      ]
    },
    {
      "cell_type": "code",
      "metadata": {
        "colab": {
          "base_uri": "https://localhost:8080/"
        },
        "id": "-1nHUsMSlEsZ",
        "outputId": "adf48a18-5e04-41b9-b6cf-d9808fa58d7b"
      },
      "source": [
        "# One cell RNN input_dim (4) -> output_dim (2). sequence: 5\n",
        "x_data = np.array([[h, e, l, l, o]], dtype=np.float32)\n",
        "\n",
        "hidden_size = 2\n",
        "rnn = layers.SimpleRNN(units=2, return_sequences=True, return_state=True)    \n",
        "outputs, states = rnn(x_data)\n",
        "\n",
        "print('x_data: {}, shape: {} \\n'.format(x_data, x_data.shape))\n",
        "print('outputs: {}, shape: {} \\n'.format(outputs, outputs.shape))\n",
        "print('states: {}, shape: {}'.format(states, states.shape))"
      ],
      "execution_count": 5,
      "outputs": [
        {
          "output_type": "stream",
          "name": "stdout",
          "text": [
            "x_data: [[[1. 0. 0. 0.]\n",
            "  [0. 1. 0. 0.]\n",
            "  [0. 0. 1. 0.]\n",
            "  [0. 0. 1. 0.]\n",
            "  [0. 0. 0. 1.]]], shape: (1, 5, 4) \n",
            "\n",
            "outputs: [[[ 0.30495822  0.59472597]\n",
            "  [-0.16600035 -0.27808633]\n",
            "  [ 0.21292324  0.81474805]\n",
            "  [-0.40812066  0.1819139 ]\n",
            "  [ 0.80176044  0.45828873]]], shape: (1, 5, 2) \n",
            "\n",
            "states: [[0.80176044 0.45828873]], shape: (1, 2)\n"
          ]
        }
      ]
    },
    {
      "cell_type": "code",
      "metadata": {
        "colab": {
          "base_uri": "https://localhost:8080/"
        },
        "id": "15vuhy0wlJC3",
        "outputId": "e0f772e7-0ec1-4fa3-f94c-5c0847100f0f"
      },
      "source": [
        "# One cell RNN input_dim (4) -> output_dim (2). sequence: 5, batch 3\n",
        "# 3 batches 'hello', 'eolll', 'lleel'\n",
        "x_data = np.array([[h, e, l, l, o],\n",
        "                   [e, o, l, l, l],\n",
        "                   [l, l, e, e, l]], dtype=np.float32)\n",
        "\n",
        "hidden_size = 2\n",
        "rnn = layers.SimpleRNN(units=2, return_sequences=True, return_state=True)    \n",
        "outputs, states = rnn(x_data)\n",
        "\n",
        "print('x_data: {}, shape: {} \\n'.format(x_data, x_data.shape))\n",
        "print('outputs: {}, shape: {} \\n'.format(outputs, outputs.shape))\n",
        "print('states: {}, shape: {}'.format(states, states.shape))"
      ],
      "execution_count": 6,
      "outputs": [
        {
          "output_type": "stream",
          "name": "stdout",
          "text": [
            "x_data: [[[1. 0. 0. 0.]\n",
            "  [0. 1. 0. 0.]\n",
            "  [0. 0. 1. 0.]\n",
            "  [0. 0. 1. 0.]\n",
            "  [0. 0. 0. 1.]]\n",
            "\n",
            " [[0. 1. 0. 0.]\n",
            "  [0. 0. 0. 1.]\n",
            "  [0. 0. 1. 0.]\n",
            "  [0. 0. 1. 0.]\n",
            "  [0. 0. 1. 0.]]\n",
            "\n",
            " [[0. 0. 1. 0.]\n",
            "  [0. 0. 1. 0.]\n",
            "  [0. 1. 0. 0.]\n",
            "  [0. 1. 0. 0.]\n",
            "  [0. 0. 1. 0.]]], shape: (3, 5, 4) \n",
            "\n",
            "outputs: [[[ 0.73988026  0.17111662]\n",
            "  [-0.3183453  -0.8980425 ]\n",
            "  [-0.90458244  0.19508769]\n",
            "  [-0.610476    0.8198067 ]\n",
            "  [ 0.26858988  0.8444397 ]]\n",
            "\n",
            " [[-0.6469242  -0.68749493]\n",
            "  [-0.8117319   0.6016186 ]\n",
            "  [-0.2898884   0.8412174 ]\n",
            "  [ 0.12135551  0.68271506]\n",
            "  [ 0.1313874   0.37443197]]\n",
            "\n",
            " [[-0.4969795   0.24074645]\n",
            "  [-0.47159582  0.6622384 ]\n",
            "  [-0.3252174  -0.15356971]\n",
            "  [-0.77627087 -0.53779435]\n",
            "  [-0.8712742   0.6400645 ]]], shape: (3, 5, 2) \n",
            "\n",
            "states: [[ 0.26858988  0.8444397 ]\n",
            " [ 0.1313874   0.37443197]\n",
            " [-0.8712742   0.6400645 ]], shape: (3, 2)\n"
          ]
        }
      ]
    }
  ]
}