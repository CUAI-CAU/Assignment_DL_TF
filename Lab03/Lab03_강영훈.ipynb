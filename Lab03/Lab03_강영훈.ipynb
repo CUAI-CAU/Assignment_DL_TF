{
  "nbformat": 4,
  "nbformat_minor": 0,
  "metadata": {
    "colab": {
      "name": "Untitled5.ipynb",
      "private_outputs": true,
      "provenance": []
    },
    "kernelspec": {
      "name": "python3",
      "display_name": "Python 3"
    },
    "language_info": {
      "name": "python"
    }
  },
  "cells": [
    {
      "cell_type": "code",
      "metadata": {
        "id": "OPGw9yZzppmD"
      },
      "source": [
        "import tensorflow as tf\n",
        "import numpy as np\n",
        "\n",
        "print(tf.__version__)"
      ],
      "execution_count": null,
      "outputs": []
    },
    {
      "cell_type": "code",
      "metadata": {
        "id": "Ut6cqSTopuxH"
      },
      "source": [
        "import numpy as np\n",
        "\n",
        "X = np.array([1, 2, 3])\n",
        "Y = np.array([1, 2, 3])\n",
        "\n",
        "def cost_func(W, X, Y):\n",
        "    c = 0\n",
        "    for i in range(len(X)):\n",
        "        c += (W * X[i] - Y[i]) ** 2\n",
        "    return c / len(X)\n",
        "\n",
        "for feed_W in np.linspace(-3, 5, num=15):\n",
        "    curr_cost = cost_func(feed_W, X, Y)\n",
        "    print(\"{:6.3f} | {:10.5f}\".format(feed_W, curr_cost))"
      ],
      "execution_count": null,
      "outputs": []
    },
    {
      "cell_type": "code",
      "metadata": {
        "id": "TVitnKT3p2C2"
      },
      "source": [
        "X = np.array([1, 2, 3])\n",
        "Y = np.array([1, 2, 3])\n",
        "\n",
        "def cost_func(W, X, Y):\n",
        "  hypothesis = X * W\n",
        "  return tf.reduce_mean(tf.square(hypothesis - Y))\n",
        "\n",
        "W_values = np.linspace(-3, 5, num=15)\n",
        "cost_values = []\n",
        "\n",
        "for feed_W in W_values:\n",
        "    curr_cost = cost_func(feed_W, X, Y)\n",
        "    cost_values.append(curr_cost)\n",
        "    print(\"{:6.3f} | {:10.5f}\".format(feed_W, curr_cost))"
      ],
      "execution_count": null,
      "outputs": []
    },
    {
      "cell_type": "code",
      "metadata": {
        "id": "yafHOlHDp3Xu"
      },
      "source": [
        "import matplotlib.pyplot as plt\n",
        "plt.rcParams[\"figure.figsize\"] = (8,6)"
      ],
      "execution_count": null,
      "outputs": []
    },
    {
      "cell_type": "code",
      "metadata": {
        "id": "eHL5BrC7p5Ki"
      },
      "source": [
        "import matplotlib.pyplot as plt\n",
        "\n",
        "plt.plot(W_values, cost_values, \"b\")\n",
        "plt.ylabel('Cost(W)')\n",
        "plt.xlabel('W')\n",
        "plt.show()"
      ],
      "execution_count": null,
      "outputs": []
    },
    {
      "cell_type": "code",
      "metadata": {
        "id": "6wSatAZLp63d"
      },
      "source": [
        "tf.random.set_seed(0)  # for reproducibility"
      ],
      "execution_count": null,
      "outputs": []
    },
    {
      "cell_type": "code",
      "metadata": {
        "id": "v7yG77_gp9Vf"
      },
      "source": [
        "x_data = [1., 2., 3., 4.]\n",
        "y_data = [1., 3., 5., 7.]\n",
        "\n",
        "W = tf.Variable(tf.random.normal((1,), -100., 100.))\n",
        "\n",
        "for step in range(300):\n",
        "    hypothesis = W * X\n",
        "    cost = tf.reduce_mean(tf.square(hypothesis - Y))\n",
        "\n",
        "    alpha = 0.01\n",
        "    gradient = tf.reduce_mean(tf.multiply(tf.multiply(W, X) - Y, X))\n",
        "    descent = W - tf.multiply(alpha, gradient)\n",
        "    W.assign(descent)\n",
        "    \n",
        "    if step % 10 == 0:\n",
        "        print('{:5} | {:10.4f} | {:10.6f}'.format(\n",
        "            step, cost.numpy(), W.numpy()[0]))"
      ],
      "execution_count": null,
      "outputs": []
    },
    {
      "cell_type": "code",
      "metadata": {
        "id": "gcVDMTtdp-zY"
      },
      "source": [
        "\n",
        "print(5.0 * W)\n",
        "print(2.5 * W)"
      ],
      "execution_count": null,
      "outputs": []
    },
    {
      "cell_type": "code",
      "metadata": {
        "id": "majf8eikqAhK"
      },
      "source": [
        "x_data = [1., 2., 3., 4.]\n",
        "y_data = [1., 3., 5., 7.]\n",
        "\n",
        "W = tf.Variable([5.0])\n",
        "\n",
        "for step in range(300):\n",
        "    hypothesis = W * X\n",
        "    cost = tf.reduce_mean(tf.square(hypothesis - Y))\n",
        "\n",
        "    alpha = 0.01\n",
        "    gradient = tf.reduce_mean(tf.multiply(tf.multiply(W, X) - Y, X))\n",
        "    descent = W - tf.multiply(alpha, gradient)\n",
        "    W.assign(descent)\n",
        "    \n",
        "    if step % 10 == 0:\n",
        "        print('{:5} | {:10.4f} | {:10.6f}'.format(\n",
        "            step, cost.numpy(), W.numpy()[0]))"
      ],
      "execution_count": null,
      "outputs": []
    },
    {
      "cell_type": "code",
      "metadata": {
        "id": "6MImcWm2qBw3"
      },
      "source": [
        ""
      ],
      "execution_count": null,
      "outputs": []
    },
    {
      "cell_type": "code",
      "metadata": {
        "id": "nKMEQ1Hjp6Xg"
      },
      "source": [
        ""
      ],
      "execution_count": null,
      "outputs": []
    }
  ]
}