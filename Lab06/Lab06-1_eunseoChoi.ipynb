{
 "cells": [
  {
   "cell_type": "markdown",
   "metadata": {},
   "source": [
    "# Lab-06-1 Softmax Classifier\n",
    "## 소프트맥스 분류기 실행"
   ]
  },
  {
   "cell_type": "code",
   "execution_count": 1,
   "metadata": {},
   "outputs": [
    {
     "name": "stdout",
     "output_type": "stream",
     "text": [
      "here\n",
      "[[8. 2. 1. 4.]]\n",
      "Loss at epoch 1: 2.480121\n",
      "Loss at epoch 100: 0.715940\n",
      "Loss at epoch 200: 0.631831\n",
      "Loss at epoch 300: 0.574215\n",
      "Loss at epoch 400: 0.524550\n",
      "Loss at epoch 500: 0.477868\n",
      "Loss at epoch 600: 0.432423\n",
      "Loss at epoch 700: 0.387459\n",
      "Loss at epoch 800: 0.342674\n",
      "Loss at epoch 900: 0.298410\n",
      "Loss at epoch 1000: 0.258429\n",
      "Loss at epoch 1100: 0.238360\n",
      "Loss at epoch 1200: 0.226894\n",
      "Loss at epoch 1300: 0.216447\n",
      "Loss at epoch 1400: 0.206877\n",
      "Loss at epoch 1500: 0.198079\n",
      "Loss at epoch 1600: 0.189965\n",
      "Loss at epoch 1700: 0.182459\n",
      "Loss at epoch 1800: 0.175498\n",
      "Loss at epoch 1900: 0.169024\n",
      "Loss at epoch 2000: 0.162991\n"
     ]
    }
   ],
   "source": [
    "import tensorflow as tf\n",
    "import numpy as np\n",
    "## dataset\n",
    "x_data = [[1, 2, 1, 1],\n",
    "          [2, 1, 3, 2],\n",
    "          [3, 1, 3, 4],\n",
    "          [4, 1, 5, 5],\n",
    "          [1, 7, 5, 5],\n",
    "          [1, 2, 5, 6],\n",
    "          [1, 6, 6, 6],\n",
    "          [1, 7, 7, 7]]\n",
    "##원핫 인코딩의 결과\n",
    "y_data = [[0, 0, 1],\n",
    "          [0, 0, 1],\n",
    "          [0, 0, 1],\n",
    "          [0, 1, 0],\n",
    "          [0, 1, 0],\n",
    "          [0, 1, 0],\n",
    "          [1, 0, 0],\n",
    "          [1, 0, 0]]\n",
    "\n",
    "#convert into numpy and float format (넘파이, 실수로 변환)\n",
    "x_data = np.asarray(x_data, dtype=np.float32)\n",
    "y_data = np.asarray(y_data, dtype=np.float32)\n",
    "nb_classes = 3 #class의 개수입니다.\n",
    "\n",
    "\n",
    "#계수와 상수\n",
    "W = tf.Variable(tf.random.normal((4, nb_classes)), name='weight') ## x 원소 4개\n",
    "b = tf.Variable(tf.random.normal((nb_classes,)), name='bias')\n",
    "variables = [W, b]\n",
    "## ver1에서는 \n",
    "#W=tfe.Variable(tf.random_normal([4, nb_classes]), name=\"weight\")\n",
    "#b=tfe.Variable(tf.random_normal([nb_classes]), name='bias')\n",
    "\n",
    "# softmax = exp(logits) / reduce_sum(exp(logits), dim)\n",
    "def hypothesis(X):\n",
    "    return tf.nn.softmax(tf.matmul(X, W) + b)\n",
    "\n",
    "# Softmax onehot test\n",
    "sample_db = [[8,2,1,4]]\n",
    "sample_db = np.asarray(sample_db, dtype=np.float32)\n",
    "\n",
    "print(\"here\")\n",
    "print(sample_db)\n",
    "\n",
    "#cost 엔트로피\n",
    "def cost_fn(X, Y):\n",
    "    logits = hypothesis(X)\n",
    "    cost = -tf.reduce_sum(Y * tf.math.log(logits), axis=1) #-y*log(hypothesis) 의 합\n",
    "    cost_mean = tf.reduce_mean(cost) #경사면을 타고 내려와서 감소시킴\n",
    "    return cost_mean\n",
    "#print(cost_fn(x_data, y_data))\n",
    "\n",
    "#경사하강법\n",
    "def grad_fn(X, Y):\n",
    "    with tf.GradientTape() as tape:\n",
    "        loss = cost_fn(X, Y)\n",
    "        grads = tape.gradient(loss, variables)\n",
    "        return grads\n",
    "#print(grad_fn(x_data, y_data))\n",
    "\n",
    "\n",
    "def fit(X, Y, epochs=2000, verbose=100):\n",
    "    optimizer =  tf.keras.optimizers.SGD(learning_rate=0.1)##Gradient decent optimizer\n",
    "    for i in range(epochs):\n",
    "        grads = grad_fn(X, Y)\n",
    "        optimizer.apply_gradients(zip(grads, variables))\n",
    "        if (i==0) | ((i+1)%verbose==0):\n",
    "            print('Loss at epoch %d: %f' %(i+1, cost_fn(X, Y).numpy()))\n",
    "            \n",
    "fit(x_data, y_data)"
   ]
  },
  {
   "cell_type": "code",
   "execution_count": 4,
   "metadata": {},
   "outputs": [
    {
     "name": "stdout",
     "output_type": "stream",
     "text": [
      "tf.Tensor([[5.1197840e-04 8.1583895e-02 9.1790408e-01]], shape=(1, 3), dtype=float32)\n",
      "tf.Tensor([2], shape=(1,), dtype=int64)\n"
     ]
    }
   ],
   "source": [
    "sample_data = [[2,1,3,2]]\n",
    "sample_data = np.asarray(sample_data, dtype=np.float32)\n",
    "\n",
    "a=hypothesis(sample_data)\n",
    "\n",
    "print(a)\n",
    "print(tf.argmax(a,1))"
   ]
  },
  {
   "cell_type": "code",
   "execution_count": 6,
   "metadata": {},
   "outputs": [
    {
     "name": "stdout",
     "output_type": "stream",
     "text": [
      "tf.Tensor(\n",
      "[[1.4303945e-06 1.2640662e-03 9.9873453e-01]\n",
      " [5.1197869e-04 8.1583902e-02 9.1790408e-01]\n",
      " [3.3300174e-07 1.6542630e-01 8.3457333e-01]\n",
      " [7.4715190e-06 8.4981847e-01 1.5017402e-01]\n",
      " [2.6801020e-01 7.1996796e-01 1.2021818e-02]\n",
      " [1.4159882e-01 8.5837191e-01 2.9242756e-05]\n",
      " [7.3066771e-01 2.6929209e-01 4.0235289e-05]\n",
      " [9.2462069e-01 7.5378664e-02 6.0974958e-07]], shape=(8, 3), dtype=float32)\n",
      "tf.Tensor([2 2 2 1 1 1 0 0], shape=(8,), dtype=int64)\n",
      "tf.Tensor([2 2 2 1 1 1 0 0], shape=(8,), dtype=int64)\n"
     ]
    }
   ],
   "source": [
    "a=hypothesis(x_data)\n",
    "\n",
    "print(a)\n",
    "##제일 확률이 높은것을 선택\n",
    "print(tf.argmax(a, 1))\n",
    "##실제 y값과 비교\n",
    "print(tf.argmax(y_data, 1))\n",
    "##정상적으로 수행되었음"
   ]
  },
  {
   "cell_type": "markdown",
   "metadata": {},
   "source": []
  },
  {
   "cell_type": "code",
   "execution_count": 8,
   "metadata": {},
   "outputs": [
    {
     "name": "stdout",
     "output_type": "stream",
     "text": [
      "Loss at epoch 1: 2.031656\n",
      "Loss at epoch 500: 0.512542\n",
      "Loss at epoch 1000: 0.286504\n",
      "Loss at epoch 1500: 0.203797\n",
      "Loss at epoch 2000: 0.166570\n"
     ]
    }
   ],
   "source": [
    "class softmax_classifier(tf.keras.Model):\n",
    "    def __init__(self,nb_classes):\n",
    "        super(softmax_classifier, self).__init__()\n",
    "        self.W = tf.Variable(tf.random.normal((4,nb_classes)),name='weight')\n",
    "        self.b = tf.Variable(tf.random.normal((nb_classes,)),name ='bias')\n",
    "        \n",
    "    def softmax_regression(self,X):\n",
    "        return tf.nn.softmax(tf.matmul(X,self.W)+self.b)\n",
    "    \n",
    "    def cost_fn(self, X,Y):\n",
    "        logits = self.softmax_regression(X)\n",
    "        cost = tf.reduce_mean(-tf.reduce_sum(Y*tf.math.log(logits), axis=1))\n",
    "        return cost\n",
    "    \n",
    "    def grad_fn(self, X, Y):\n",
    "        with tf.GradientTape() as tape:\n",
    "            cost = self.cost_fn(x_data, y_data)\n",
    "            grads = tape.gradient(cost, self.variables)            \n",
    "            return grads\n",
    "    \n",
    "    def fit(self, X, Y, epochs=2000, verbose=500):\n",
    "        optimizer =  tf.keras.optimizers.SGD(learning_rate=0.1)\n",
    "\n",
    "        for i in range(epochs):\n",
    "            grads = self.grad_fn(X, Y)\n",
    "            optimizer.apply_gradients(zip(grads, self.variables))\n",
    "            if (i==0) | ((i+1)%verbose==0):\n",
    "                print('Loss at epoch %d: %f' %(i+1, self.cost_fn(X, Y).numpy()))\n",
    "                \n",
    "model = softmax_classifier(nb_classes)\n",
    "model.fit(x_data, y_data)"
   ]
  }
 ],
 "metadata": {
  "kernelspec": {
   "display_name": "Python 3",
   "language": "python",
   "name": "python3"
  },
  "language_info": {
   "codemirror_mode": {
    "name": "ipython",
    "version": 3
   },
   "file_extension": ".py",
   "mimetype": "text/x-python",
   "name": "python",
   "nbconvert_exporter": "python",
   "pygments_lexer": "ipython3",
   "version": "3.8.5"
  }
 },
 "nbformat": 4,
 "nbformat_minor": 4
}
