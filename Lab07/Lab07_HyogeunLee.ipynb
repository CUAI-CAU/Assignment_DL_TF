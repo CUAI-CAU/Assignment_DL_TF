{
 "cells": [
  {
   "cell_type": "code",
   "execution_count": 2,
   "id": "930d0a74",
   "metadata": {},
   "outputs": [
    {
     "name": "stdout",
     "output_type": "stream",
     "text": [
      "2.6.0\n"
     ]
    }
   ],
   "source": [
    "import numpy as np\n",
    "import tensorflow as tf\n",
    "from tensorflow import keras\n",
    "\n",
    "tf.random.set_seed(777)  # for reproducibility\n",
    "print(tf.__version__)"
   ]
  },
  {
   "cell_type": "code",
   "execution_count": 3,
   "id": "39d8bd73",
   "metadata": {},
   "outputs": [
    {
     "name": "stdout",
     "output_type": "stream",
     "text": [
      "Downloading data from https://storage.googleapis.com/tensorflow/tf-keras-datasets/imdb.npz\n",
      "17465344/17464789 [==============================] - 1s 0us/step\n",
      "17473536/17464789 [==============================] - 1s 0us/step\n",
      "Training entries: 25000, labels: 25000\n",
      "[1, 14, 22, 16, 43, 530, 973, 1622, 1385, 65, 458, 4468, 66, 3941, 4, 173, 36, 256, 5, 25, 100, 43, 838, 112, 50, 670, 2, 9, 35, 480, 284, 5, 150, 4, 172, 112, 167, 2, 336, 385, 39, 4, 172, 4536, 1111, 17, 546, 38, 13, 447, 4, 192, 50, 16, 6, 147, 2025, 19, 14, 22, 4, 1920, 4613, 469, 4, 22, 71, 87, 12, 16, 43, 530, 38, 76, 15, 13, 1247, 4, 22, 17, 515, 17, 12, 16, 626, 18, 2, 5, 62, 386, 12, 8, 316, 8, 106, 5, 4, 2223, 5244, 16, 480, 66, 3785, 33, 4, 130, 12, 16, 38, 619, 5, 25, 124, 51, 36, 135, 48, 25, 1415, 33, 6, 22, 12, 215, 28, 77, 52, 5, 14, 407, 16, 82, 2, 8, 4, 107, 117, 5952, 15, 256, 4, 2, 7, 3766, 5, 723, 36, 71, 43, 530, 476, 26, 400, 317, 46, 7, 4, 2, 1029, 13, 104, 88, 4, 381, 15, 297, 98, 32, 2071, 56, 26, 141, 6, 194, 7486, 18, 4, 226, 22, 21, 134, 476, 26, 480, 5, 144, 30, 5535, 18, 51, 36, 28, 224, 92, 25, 104, 4, 226, 65, 16, 38, 1334, 88, 12, 16, 283, 5, 16, 4472, 113, 103, 32, 15, 16, 5345, 19, 178, 32]\n"
     ]
    }
   ],
   "source": [
    "imdb = keras.datasets.imdb\n",
    "(train_data, train_labels), (test_data, test_labels) = imdb.load_data(num_words=10000)\n",
    "print(\"Training entries: {}, labels: {}\".format(len(train_data), len(train_labels)))\n",
    "print(train_data[0])"
   ]
  },
  {
   "cell_type": "code",
   "execution_count": 6,
   "id": "efaebd08",
   "metadata": {},
   "outputs": [
    {
     "name": "stdout",
     "output_type": "stream",
     "text": [
      "Downloading data from https://storage.googleapis.com/tensorflow/tf-keras-datasets/imdb_word_index.json\n",
      "1646592/1641221 [==============================] - 0s 0us/step\n",
      "1654784/1641221 [==============================] - 0s 0us/step\n"
     ]
    },
    {
     "data": {
      "text/plain": [
       "\"<START> worst mistake of my life br br i picked this movie up at target for 5 because i figured hey it's sandler i can get some cheap laughs i was wrong completely wrong mid way through the film all three of my friends were asleep and i was still suffering worst plot worst script worst movie i have ever seen i wanted to hit my head up against a wall for an hour then i'd stop and you know why because it felt damn good upon bashing my head in i stuck that damn movie in the <UNK> and watched it burn and that felt better than anything else i've ever done it took american psycho army of darkness and kill bill just to get over that crap i hate you sandler for actually going through with this and ruining a whole day of my life\""
      ]
     },
     "execution_count": 6,
     "metadata": {},
     "output_type": "execute_result"
    }
   ],
   "source": [
    "word_index = imdb.get_word_index()\n",
    "\n",
    "# The first indices are reserved\n",
    "word_index = {k:(v+3) for k,v in word_index.items()}\n",
    "word_index[\"<PAD>\"] = 0\n",
    "word_index[\"<START>\"] = 1\n",
    "word_index[\"<UNK>\"] = 2  # unknown\n",
    "word_index[\"<UNUSED>\"] = 3\n",
    "\n",
    "reverse_word_index = dict([(value, key) for (key, value) in word_index.items()])\n",
    "\n",
    "def decode_review(text):\n",
    "    return ' '.join([reverse_word_index.get(i, '?') for i in text])\n",
    "\n",
    "decode_review(train_data[4])"
   ]
  },
  {
   "cell_type": "code",
   "execution_count": 8,
   "id": "6a611d56",
   "metadata": {},
   "outputs": [
    {
     "name": "stdout",
     "output_type": "stream",
     "text": [
      "256 256\n",
      "[   1   14   22   16   43  530  973 1622 1385   65  458 4468   66 3941\n",
      "    4  173   36  256    5   25  100   43  838  112   50  670    2    9\n",
      "   35  480  284    5  150    4  172  112  167    2  336  385   39    4\n",
      "  172 4536 1111   17  546   38   13  447    4  192   50   16    6  147\n",
      " 2025   19   14   22    4 1920 4613  469    4   22   71   87   12   16\n",
      "   43  530   38   76   15   13 1247    4   22   17  515   17   12   16\n",
      "  626   18    2    5   62  386   12    8  316    8  106    5    4 2223\n",
      " 5244   16  480   66 3785   33    4  130   12   16   38  619    5   25\n",
      "  124   51   36  135   48   25 1415   33    6   22   12  215   28   77\n",
      "   52    5   14  407   16   82    2    8    4  107  117 5952   15  256\n",
      "    4    2    7 3766    5  723   36   71   43  530  476   26  400  317\n",
      "   46    7    4    2 1029   13  104   88    4  381   15  297   98   32\n",
      " 2071   56   26  141    6  194 7486   18    4  226   22   21  134  476\n",
      "   26  480    5  144   30 5535   18   51   36   28  224   92   25  104\n",
      "    4  226   65   16   38 1334   88   12   16  283    5   16 4472  113\n",
      "  103   32   15   16 5345   19  178   32    0    0    0    0    0    0\n",
      "    0    0    0    0    0    0    0    0    0    0    0    0    0    0\n",
      "    0    0    0    0    0    0    0    0    0    0    0    0    0    0\n",
      "    0    0    0    0]\n"
     ]
    }
   ],
   "source": [
    "train_data = keras.preprocessing.sequence.pad_sequences(train_data,\n",
    "                                                        value=word_index[\"<PAD>\"],\n",
    "                                                        padding='post',\n",
    "                                                        maxlen=256)\n",
    "\n",
    "test_data = keras.preprocessing.sequence.pad_sequences(test_data,\n",
    "                                                       value=word_index[\"<PAD>\"],\n",
    "                                                       padding='post',\n",
    "                                                       maxlen=256)\n",
    "\n",
    "print(len(train_data[0]), len(test_data[0]))\n",
    "print(train_data[0])"
   ]
  },
  {
   "cell_type": "code",
   "execution_count": 13,
   "id": "07c6f64a",
   "metadata": {},
   "outputs": [
    {
     "name": "stdout",
     "output_type": "stream",
     "text": [
      "Model: \"sequential_4\"\n",
      "_________________________________________________________________\n",
      "Layer (type)                 Output Shape              Param #   \n",
      "=================================================================\n",
      "embedding_4 (Embedding)      (None, None, 16)          160000    \n",
      "_________________________________________________________________\n",
      "global_average_pooling1d_4 ( (None, 16)                0         \n",
      "_________________________________________________________________\n",
      "dense_8 (Dense)              (None, 16)                272       \n",
      "_________________________________________________________________\n",
      "dense_9 (Dense)              (None, 1)                 17        \n",
      "=================================================================\n",
      "Total params: 160,289\n",
      "Trainable params: 160,289\n",
      "Non-trainable params: 0\n",
      "_________________________________________________________________\n"
     ]
    }
   ],
   "source": [
    "vocab_size = 10000\n",
    "\n",
    "model = keras.Sequential()\n",
    "model.add(keras.layers.Embedding(vocab_size, 16))\n",
    "model.add(keras.layers.GlobalAveragePooling1D())\n",
    "model.add(keras.layers.Dense(16, activation=tf.nn.relu))\n",
    "model.add(keras.layers.Dense(1, activation=tf.nn.sigmoid))\n",
    "\n",
    "model.summary()"
   ]
  },
  {
   "cell_type": "code",
   "execution_count": 14,
   "id": "e5405d4d",
   "metadata": {},
   "outputs": [],
   "source": [
    "model.compile(optimizer='adam',\n",
    "              loss='binary_crossentropy',\n",
    "              metrics=['accuracy'])"
   ]
  },
  {
   "cell_type": "code",
   "execution_count": 18,
   "id": "5242c7a2",
   "metadata": {},
   "outputs": [
    {
     "name": "stdout",
     "output_type": "stream",
     "text": [
      "Epoch 1/40\n",
      "30/30 [==============================] - 0s 14ms/step - loss: 0.0381 - accuracy: 0.9942 - val_loss: 0.4142 - val_accuracy: 0.8740\n",
      "Epoch 2/40\n",
      "30/30 [==============================] - 0s 13ms/step - loss: 0.0365 - accuracy: 0.9950 - val_loss: 0.4202 - val_accuracy: 0.8730\n",
      "Epoch 3/40\n",
      "30/30 [==============================] - 0s 13ms/step - loss: 0.0352 - accuracy: 0.9952 - val_loss: 0.4265 - val_accuracy: 0.8731\n",
      "Epoch 4/40\n",
      "30/30 [==============================] - 0s 14ms/step - loss: 0.0341 - accuracy: 0.9953 - val_loss: 0.4288 - val_accuracy: 0.8724\n",
      "Epoch 5/40\n",
      "30/30 [==============================] - 0s 13ms/step - loss: 0.0328 - accuracy: 0.9955 - val_loss: 0.4368 - val_accuracy: 0.8713\n",
      "Epoch 6/40\n",
      "30/30 [==============================] - 0s 14ms/step - loss: 0.0316 - accuracy: 0.9960 - val_loss: 0.4388 - val_accuracy: 0.8714\n",
      "Epoch 7/40\n",
      "30/30 [==============================] - 0s 13ms/step - loss: 0.0308 - accuracy: 0.9959 - val_loss: 0.4430 - val_accuracy: 0.8715\n",
      "Epoch 8/40\n",
      "30/30 [==============================] - 0s 13ms/step - loss: 0.0294 - accuracy: 0.9963 - val_loss: 0.4527 - val_accuracy: 0.8705\n",
      "Epoch 9/40\n",
      "30/30 [==============================] - 0s 14ms/step - loss: 0.0283 - accuracy: 0.9967 - val_loss: 0.4555 - val_accuracy: 0.8703\n",
      "Epoch 10/40\n",
      "30/30 [==============================] - 0s 13ms/step - loss: 0.0270 - accuracy: 0.9973 - val_loss: 0.4627 - val_accuracy: 0.8696\n",
      "Epoch 11/40\n",
      "30/30 [==============================] - 0s 14ms/step - loss: 0.0261 - accuracy: 0.9971 - val_loss: 0.4647 - val_accuracy: 0.8702\n",
      "Epoch 12/40\n",
      "30/30 [==============================] - 0s 14ms/step - loss: 0.0250 - accuracy: 0.9975 - val_loss: 0.4709 - val_accuracy: 0.8694\n",
      "Epoch 13/40\n",
      "30/30 [==============================] - 0s 13ms/step - loss: 0.0241 - accuracy: 0.9974 - val_loss: 0.4775 - val_accuracy: 0.8680\n",
      "Epoch 14/40\n",
      "30/30 [==============================] - 0s 13ms/step - loss: 0.0232 - accuracy: 0.9977 - val_loss: 0.4792 - val_accuracy: 0.8688\n",
      "Epoch 15/40\n",
      "30/30 [==============================] - 0s 13ms/step - loss: 0.0224 - accuracy: 0.9978 - val_loss: 0.4851 - val_accuracy: 0.8691\n",
      "Epoch 16/40\n",
      "30/30 [==============================] - 0s 13ms/step - loss: 0.0215 - accuracy: 0.9981 - val_loss: 0.4908 - val_accuracy: 0.8680\n",
      "Epoch 17/40\n",
      "30/30 [==============================] - 0s 13ms/step - loss: 0.0207 - accuracy: 0.9982 - val_loss: 0.4966 - val_accuracy: 0.8665\n",
      "Epoch 18/40\n",
      "30/30 [==============================] - 0s 13ms/step - loss: 0.0199 - accuracy: 0.9985 - val_loss: 0.5015 - val_accuracy: 0.8664\n",
      "Epoch 19/40\n",
      "30/30 [==============================] - 0s 13ms/step - loss: 0.0192 - accuracy: 0.9985 - val_loss: 0.5079 - val_accuracy: 0.8660\n",
      "Epoch 20/40\n",
      "30/30 [==============================] - 0s 14ms/step - loss: 0.0185 - accuracy: 0.9983 - val_loss: 0.5131 - val_accuracy: 0.8649\n",
      "Epoch 21/40\n",
      "30/30 [==============================] - 0s 14ms/step - loss: 0.0177 - accuracy: 0.9986 - val_loss: 0.5139 - val_accuracy: 0.8674\n",
      "Epoch 22/40\n",
      "30/30 [==============================] - 0s 13ms/step - loss: 0.0174 - accuracy: 0.9983 - val_loss: 0.5211 - val_accuracy: 0.8662\n",
      "Epoch 23/40\n",
      "30/30 [==============================] - 0s 13ms/step - loss: 0.0163 - accuracy: 0.9989 - val_loss: 0.5257 - val_accuracy: 0.8665\n",
      "Epoch 24/40\n",
      "30/30 [==============================] - 0s 14ms/step - loss: 0.0157 - accuracy: 0.9989 - val_loss: 0.5358 - val_accuracy: 0.8642\n",
      "Epoch 25/40\n",
      "30/30 [==============================] - 0s 13ms/step - loss: 0.0150 - accuracy: 0.9989 - val_loss: 0.5362 - val_accuracy: 0.8650\n",
      "Epoch 26/40\n",
      "30/30 [==============================] - 0s 13ms/step - loss: 0.0143 - accuracy: 0.9989 - val_loss: 0.5433 - val_accuracy: 0.8656\n",
      "Epoch 27/40\n",
      "30/30 [==============================] - 0s 14ms/step - loss: 0.0137 - accuracy: 0.9989 - val_loss: 0.5455 - val_accuracy: 0.8653\n",
      "Epoch 28/40\n",
      "30/30 [==============================] - 0s 13ms/step - loss: 0.0133 - accuracy: 0.9991 - val_loss: 0.5528 - val_accuracy: 0.8650\n",
      "Epoch 29/40\n",
      "30/30 [==============================] - 0s 13ms/step - loss: 0.0128 - accuracy: 0.9991 - val_loss: 0.5556 - val_accuracy: 0.8654\n",
      "Epoch 30/40\n",
      "30/30 [==============================] - 0s 13ms/step - loss: 0.0122 - accuracy: 0.9994 - val_loss: 0.5636 - val_accuracy: 0.8640\n",
      "Epoch 31/40\n",
      "30/30 [==============================] - 0s 14ms/step - loss: 0.0119 - accuracy: 0.9993 - val_loss: 0.5653 - val_accuracy: 0.8649\n",
      "Epoch 32/40\n",
      "30/30 [==============================] - 0s 14ms/step - loss: 0.0113 - accuracy: 0.9993 - val_loss: 0.5731 - val_accuracy: 0.8642\n",
      "Epoch 33/40\n",
      "30/30 [==============================] - 0s 14ms/step - loss: 0.0109 - accuracy: 0.9995 - val_loss: 0.5788 - val_accuracy: 0.8639\n",
      "Epoch 34/40\n",
      "30/30 [==============================] - 0s 13ms/step - loss: 0.0105 - accuracy: 0.9995 - val_loss: 0.5819 - val_accuracy: 0.8640\n",
      "Epoch 35/40\n",
      "30/30 [==============================] - 0s 13ms/step - loss: 0.0100 - accuracy: 0.9995 - val_loss: 0.5850 - val_accuracy: 0.8638\n",
      "Epoch 36/40\n",
      "30/30 [==============================] - 0s 14ms/step - loss: 0.0097 - accuracy: 0.9995 - val_loss: 0.5918 - val_accuracy: 0.8639\n",
      "Epoch 37/40\n",
      "30/30 [==============================] - 0s 14ms/step - loss: 0.0093 - accuracy: 0.9995 - val_loss: 0.5958 - val_accuracy: 0.8633\n",
      "Epoch 38/40\n",
      "30/30 [==============================] - 0s 14ms/step - loss: 0.0089 - accuracy: 0.9995 - val_loss: 0.6022 - val_accuracy: 0.8629\n",
      "Epoch 39/40\n",
      "30/30 [==============================] - 0s 13ms/step - loss: 0.0085 - accuracy: 0.9997 - val_loss: 0.6146 - val_accuracy: 0.8627\n",
      "Epoch 40/40\n",
      "30/30 [==============================] - 0s 13ms/step - loss: 0.0082 - accuracy: 0.9997 - val_loss: 0.6130 - val_accuracy: 0.8625\n"
     ]
    }
   ],
   "source": [
    "x_val = train_data[:10000]\n",
    "partial_x_train = train_data[10000:]\n",
    "\n",
    "y_val = train_labels[:10000]\n",
    "partial_y_train = train_labels[10000:]\n",
    "\n",
    "history = model.fit(partial_x_train,\n",
    "                    partial_y_train,\n",
    "                    epochs=40,\n",
    "                    batch_size=512,\n",
    "                    validation_data=(x_val, y_val),\n",
    "                    verbose=1)"
   ]
  },
  {
   "cell_type": "code",
   "execution_count": 19,
   "id": "4b351058",
   "metadata": {},
   "outputs": [
    {
     "name": "stdout",
     "output_type": "stream",
     "text": [
      "782/782 [==============================] - 1s 690us/step - loss: 0.6524 - accuracy: 0.8508\n",
      "[0.652434766292572, 0.8508399724960327]\n"
     ]
    }
   ],
   "source": [
    "results = model.evaluate(test_data, test_labels)\n",
    "print(results)"
   ]
  }
 ],
 "metadata": {
  "kernelspec": {
   "display_name": "Python 3 (ipykernel)",
   "language": "python",
   "name": "python3"
  },
  "language_info": {
   "codemirror_mode": {
    "name": "ipython",
    "version": 3
   },
   "file_extension": ".py",
   "mimetype": "text/x-python",
   "name": "python",
   "nbconvert_exporter": "python",
   "pygments_lexer": "ipython3",
   "version": "3.8.11"
  }
 },
 "nbformat": 4,
 "nbformat_minor": 5
}
