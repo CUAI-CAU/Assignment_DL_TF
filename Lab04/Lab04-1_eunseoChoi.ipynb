{
 "cells": [
  {
   "cell_type": "markdown",
   "metadata": {},
   "source": [
    "# Lab-04 Multi variable linear regression LAB\n",
    "## 원래 ver"
   ]
  },
  {
   "cell_type": "code",
   "execution_count": 1,
   "metadata": {},
   "outputs": [
    {
     "name": "stdout",
     "output_type": "stream",
     "text": [
      "    0 |  238034.9531\n",
      "   50 |      44.1347\n",
      "  100 |      42.9891\n",
      "  150 |      41.8740\n",
      "  200 |      40.7887\n",
      "  250 |      39.7323\n",
      "  300 |      38.7042\n",
      "  350 |      37.7033\n",
      "  400 |      36.7293\n",
      "  450 |      35.7811\n",
      "  500 |      34.8583\n",
      "  550 |      33.9601\n",
      "  600 |      33.0858\n",
      "  650 |      32.2348\n",
      "  700 |      31.4065\n",
      "  750 |      30.6003\n",
      "  800 |      29.8156\n",
      "  850 |      29.0518\n",
      "  900 |      28.3083\n",
      "  950 |      27.5846\n",
      " 1000 |      26.8803\n"
     ]
    }
   ],
   "source": [
    "import tensorflow as tf\n",
    "\n",
    "#data and label\n",
    "x1=[73., 93., 89., 96., 73.]\n",
    "x2=[80., 88., 91., 98., 66.]\n",
    "x3=[75., 93., 90., 100., 70.]\n",
    "Y=[152., 185., 180., 196., 142.]\n",
    "\n",
    "#weights 가정\n",
    "w1=tf.Variable(tf.random.normal([1]))\n",
    "w2=tf.Variable(tf.random.normal([1]))\n",
    "w3=tf.Variable(tf.random.normal([1]))\n",
    "b=tf.Variable(tf.random.normal([1]))\n",
    "\n",
    "learning_rate=0.00001\n",
    "\n",
    "for i in range (1000+1):\n",
    "    with tf.GradientTape() as tape:\n",
    "        ##우리의 가정\n",
    "        hypothesis=w1*x1+w2*x2+w3*x3+b\n",
    "        ##cost 함수 : (가정-Y)^2의 평균\n",
    "        cost=tf.reduce_mean(tf.square(hypothesis-Y))\n",
    "    #calculates the gradients of the cost(기울기)\n",
    "    w1_grad, w2_grad, w3_grad, b_grad=tape.gradient(cost, [w1, w2, w3, b])\n",
    "    \n",
    "    w1.assign_sub(learning_rate*w1_grad)\n",
    "    w2.assign_sub(learning_rate*w2_grad)\n",
    "    w3.assign_sub(learning_rate*w3_grad)\n",
    "    b.assign_sub(learning_rate*b_grad)\n",
    "    \n",
    "    if i%50==0:\n",
    "        print(\"{:5} | {:12.4f}\".format(i, cost.numpy()))"
   ]
  },
  {
   "cell_type": "markdown",
   "metadata": {},
   "source": [
    "## Matrix ver"
   ]
  },
  {
   "cell_type": "code",
   "execution_count": 2,
   "metadata": {},
   "outputs": [
    {
     "name": "stdout",
     "output_type": "stream",
     "text": [
      "    0 |   39139.8477\n",
      "  100 |       6.0575\n",
      "  200 |       1.2381\n",
      "  300 |       1.2363\n",
      "  400 |       1.2351\n",
      "  500 |       1.2339\n",
      "  600 |       1.2328\n",
      "  700 |       1.2316\n",
      "  800 |       1.2305\n",
      "  900 |       1.2293\n",
      " 1000 |       1.2282\n",
      " 1100 |       1.2270\n",
      " 1200 |       1.2259\n",
      " 1300 |       1.2248\n",
      " 1400 |       1.2236\n",
      " 1500 |       1.2225\n",
      " 1600 |       1.2213\n",
      " 1700 |       1.2202\n",
      " 1800 |       1.2191\n",
      " 1900 |       1.2180\n",
      " 2000 |       1.2168\n"
     ]
    }
   ],
   "source": [
    "import tensorflow as tf\n",
    "import numpy as np\n",
    "#data and label\n",
    "data=np.array([\n",
    "    #x1\n",
    "    [73., 80., 75., 152.],\n",
    "    [93., 88., 93., 185.],\n",
    "    [89., 91., 90., 180.], \n",
    "    [96., 98., 100., 196.],\n",
    "    [73., 66., 70., 142.]\n",
    "], dtype=np.float32)\n",
    "\n",
    "#slice data\n",
    "X=data[:, :-1] #모든 row, 뒤에서 -1 전까지\n",
    "y=data[:, [-1]] #모든 row, 뒤에서 -1 col\n",
    "\n",
    "#random [행, 열] 순으로\n",
    "W=tf.Variable(tf.random.normal([3, 1])) #x개수*ouput 개수\n",
    "b=tf.Variable(tf.random.normal([1]))\n",
    "\n",
    "learning_rate=0.000001\n",
    "#가정함수\n",
    "def predict(X):\n",
    "    return tf.matmul(X, W)+b\n",
    "\n",
    "n_epoches=2000\n",
    "\n",
    "\n",
    "for i in range(n_epoches+1):\n",
    "    with tf.GradientTape() as tape:\n",
    "        ##cost 함수 : (가정-Y)^2의 평균\n",
    "        cost=tf.reduce_mean((tf.square(predict(X)-y)))\n",
    "    #calculates the gradients of the cost(기울기)\n",
    "    W_grad, b_grad=tape.gradient(cost, [W, b])\n",
    "    \n",
    "    #updates parameters (W and b)\n",
    "    W.assign_sub(learning_rate*W_grad)\n",
    "    b.assign_sub(learning_rate*b_grad)\n",
    "    \n",
    "    if i%100==0:\n",
    "        print(\"{:5} | {:12.4f}\".format(i, cost.numpy()))"
   ]
  },
  {
   "cell_type": "markdown",
   "metadata": {},
   "source": [
    "### 결론 Matrix를 이용하면 column과 데이터 개수와 상관없이 쉽게 반복적으로 표현할 수 있다."
   ]
  }
 ],
 "metadata": {
  "kernelspec": {
   "display_name": "Python 3",
   "language": "python",
   "name": "python3"
  },
  "language_info": {
   "codemirror_mode": {
    "name": "ipython",
    "version": 3
   },
   "file_extension": ".py",
   "mimetype": "text/x-python",
   "name": "python",
   "nbconvert_exporter": "python",
   "pygments_lexer": "ipython3",
   "version": "3.8.5"
  }
 },
 "nbformat": 4,
 "nbformat_minor": 4
}
