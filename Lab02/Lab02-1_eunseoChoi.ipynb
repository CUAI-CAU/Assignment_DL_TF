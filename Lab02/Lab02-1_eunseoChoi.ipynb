{
 "cells": [
  {
   "cell_type": "markdown",
   "metadata": {},
   "source": [
    "# Lec-02-Simple Liner Regression"
   ]
  },
  {
   "cell_type": "code",
   "execution_count": 1,
   "metadata": {},
   "outputs": [],
   "source": [
    "import tensorflow as tf\n",
    "import numpy as np"
   ]
  },
  {
   "cell_type": "markdown",
   "metadata": {},
   "source": [
    "## 가설함수"
   ]
  },
  {
   "cell_type": "code",
   "execution_count": 3,
   "metadata": {},
   "outputs": [],
   "source": [
    "x_data = [1,2,3,4,5]\n",
    "y_data = [1,2,3,4,5]\n",
    "\n",
    "W=tf.Variable(2.9)\n",
    "b=tf.Variable(0.5)\n",
    "\n",
    "# hypothesis = W*x+b\n",
    "hypothesis=W*x_data+b"
   ]
  },
  {
   "cell_type": "markdown",
   "metadata": {},
   "source": [
    "## 비용함수\n",
    "### (가설-실제y)제곱의 평균"
   ]
  },
  {
   "cell_type": "code",
   "execution_count": 6,
   "metadata": {},
   "outputs": [],
   "source": [
    "cost=tf.reduce_mean(tf.square(hypothesis-y_data))\n",
    "##rednuce_mean인 이유 : 차원을 줄여준다는 의미 1차=>0차"
   ]
  },
  {
   "cell_type": "markdown",
   "metadata": {},
   "source": [
    "## Gradient Decent"
   ]
  },
  {
   "cell_type": "code",
   "execution_count": 8,
   "metadata": {},
   "outputs": [
    {
     "data": {
      "text/plain": [
       "<tf.Variable 'UnreadVariable' shape=() dtype=float32, numpy=0.28135997>"
      ]
     },
     "execution_count": 8,
     "metadata": {},
     "output_type": "execute_result"
    }
   ],
   "source": [
    "# 학습률 정하기\n",
    "learning_rate=0.01\n",
    "\n",
    "# Gradient descent\n",
    "with tf.GradientTape() as tape: \n",
    "    hypothesis = W*x_data+b\n",
    "    cost=tf.reduce_mean(tf.square(hypothesis-y_data))\n",
    "    \n",
    "# W, b의 기울기\n",
    "W_grad, b_grad=tape.gradient(cost,[W,b])\n",
    "\n",
    "# 원래값-학습률*기울기\n",
    "W.assign_sub(learning_rate*W_grad)\n",
    "b.assign_sub(learning_rate*b_grad)"
   ]
  },
  {
   "cell_type": "markdown",
   "metadata": {},
   "source": [
    "### 실제 임의의 값 지정해서 연산결과"
   ]
  },
  {
   "cell_type": "code",
   "execution_count": 9,
   "metadata": {},
   "outputs": [
    {
     "name": "stdout",
     "output_type": "stream",
     "text": [
      "    0|    2.4520|    0.3760| 45.660004\n",
      "   10|    1.1036|    0.0034|  0.206336\n",
      "   20|    1.0128|   -0.0209|  0.001026\n",
      "   30|    1.0065|   -0.0218|  0.000093\n",
      "   40|    1.0059|   -0.0212|  0.000083\n",
      "   50|    1.0057|   -0.0205|  0.000077\n",
      "   60|    1.0055|   -0.0198|  0.000072\n",
      "   70|    1.0053|   -0.0192|  0.000067\n",
      "   80|    1.0051|   -0.0185|  0.000063\n",
      "   90|    1.0050|   -0.0179|  0.000059\n"
     ]
    }
   ],
   "source": [
    "W=tf.Variable(2.9)\n",
    "b=tf.Variable(0.5)\n",
    "\n",
    "for i in range(100):\n",
    "    #Gradient descent\n",
    "    with tf.GradientTape() as tape:\n",
    "        hypothesis=W*x_data+b\n",
    "        cost=tf.reduce_mean(tf.square(hypothesis-y_data))\n",
    "    W_grad, b_grad=tape.gradient(cost,[W,b])\n",
    "    W.assign_sub(learning_rate*W_grad)\n",
    "    b.assign_sub(learning_rate*b_grad)\n",
    "    if i%10==0:\n",
    "        print(\"{:5}|{:10.4f}|{:10.4f}|{:10.6f}\".format(i,W.numpy(),b.numpy(),cost))"
   ]
  },
  {
   "cell_type": "markdown",
   "metadata": {},
   "source": [
    "### 결론\n",
    "#### W, b는 특정 값으로 수렴, cost는 0으로 수렴"
   ]
  }
 ],
 "metadata": {
  "kernelspec": {
   "display_name": "Python 3",
   "language": "python",
   "name": "python3"
  },
  "language_info": {
   "codemirror_mode": {
    "name": "ipython",
    "version": 3
   },
   "file_extension": ".py",
   "mimetype": "text/x-python",
   "name": "python",
   "nbconvert_exporter": "python",
   "pygments_lexer": "ipython3",
   "version": "3.8.5"
  }
 },
 "nbformat": 4,
 "nbformat_minor": 4
}
