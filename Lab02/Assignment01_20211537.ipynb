{
 "cells": [
  {
   "cell_type": "markdown",
   "metadata": {},
   "source": [
    "# Print your name and student ID!\n",
    "\n",
    "In this lecture, we learned the function \"print()\".\n",
    "The assignment is as follows:\n",
    "1. Print your name\n",
    "2. Print your student ID\n",
    "3. Print any sentence you want to talk about. For example, the assignment is easy, the assignment is difficult, I love this course, ...\n",
    "4. After finishing your assignment, submit this notebook file through the eclass homepage. Please change filename into \"Assignment01_\\[student_ID\\]\""
   ]
  },
  {
   "cell_type": "code",
   "execution_count": 1,
   "metadata": {},
   "outputs": [
    {
     "name": "stdout",
     "output_type": "stream",
     "text": [
      "서준영\n",
      "20211537\n",
      "Well.. I feel easy, not yet. But, it'll be more difficult. I'm so scared.\n"
     ]
    }
   ],
   "source": [
    "print(\"서준영\")\n",
    "print(\"20211537\")\n",
    "print(\"Well.. I feel easy, not yet. But, it'll be more difficult. I'm so scared.\")"
   ]
  },
  {
   "cell_type": "code",
   "execution_count": null,
   "metadata": {},
   "outputs": [],
   "source": []
  }
 ],
 "metadata": {
  "kernelspec": {
   "display_name": "Python 3",
   "language": "python",
   "name": "python3"
  },
  "language_info": {
   "codemirror_mode": {
    "name": "ipython",
    "version": 3
   },
   "file_extension": ".py",
   "mimetype": "text/x-python",
   "name": "python",
   "nbconvert_exporter": "python",
   "pygments_lexer": "ipython3",
   "version": "3.8.5"
  }
 },
 "nbformat": 4,
 "nbformat_minor": 4
}
